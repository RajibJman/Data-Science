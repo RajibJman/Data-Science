{
 "cells": [
  {
   "cell_type": "code",
   "execution_count": 11,
   "id": "9fc7cef2-8b6b-4d62-8a6b-b854f604806c",
   "metadata": {},
   "outputs": [
    {
     "name": "stdout",
     "output_type": "stream",
     "text": [
      "Connection to Snowflake successful!\n",
      "events\n",
      "Table 'events' created in Snowflake.\n",
      "Data inserted into table 'events' in Snowflake.\n",
      "marks\n",
      "Table 'marks' created in Snowflake.\n",
      "Data inserted into table 'marks' in Snowflake.\n",
      "module\n",
      "Table 'module' created in Snowflake.\n",
      "Data inserted into table 'module' in Snowflake.\n",
      "quizzes\n",
      "Table 'quizzes' created in Snowflake.\n",
      "Data inserted into table 'quizzes' in Snowflake.\n",
      "users\n",
      "Table 'users' created in Snowflake.\n",
      "Data inserted into table 'users' in Snowflake.\n"
     ]
    }
   ],
   "source": [
    "\n",
    "import snowflake.connector\n",
    "import csv\n",
    "import pandas as pd\n",
    "\n",
    "snowflake_connection = snowflake.connector.connect(\n",
    "            user='RAJIB5',\n",
    "            password='Rajib@123',\n",
    "            account='uw04501.central-india.azure',\n",
    "            warehouse='COMPUTE_WH',\n",
    "            database='ML_Data',\n",
    "            schema='Public',\n",
    "            role='ACCOUNTADMIN'\n",
    "        )\n",
    "snowflake_cursor = snowflake_connection.cursor()\n",
    " \n",
    " \n",
    "# Check Snowflake connection\n",
    "try:\n",
    "    snowflake_connection\n",
    "    print(\"Connection to Snowflake successful!\")\n",
    "   \n",
    "except Exception as e:\n",
    "    print(f\"Error connecting to Snowflake: {str(e)}\")\n",
    "\n",
    "\n",
    "import os\n",
    "staging_folder = 'data/'  # Change this to your actual staging folder path\n",
    " \n",
    "# Get a list of all CSV files in the staging folder\n",
    "csv_files = [file for file in os.listdir(staging_folder) if file.endswith('.csv')]\n",
    "\n",
    "for csv_file in csv_files:\n",
    "    table_name = os.path.splitext(csv_file)[0]  # Use CSV file name as table name\n",
    "   \n",
    "    # Read CSV file into DataFrame\n",
    "    df = pd.read_csv(os.path.join(staging_folder, csv_file))\n",
    "    df.fillna('',inplace=True)\n",
    "   \n",
    "    # Create table in Snowflake\n",
    "    create_table_query = f\"CREATE TABLE {table_name} (\"\n",
    "    for column in df.columns:\n",
    "        create_table_query += f\"{column} VARCHAR,\"\n",
    "    create_table_query = create_table_query[:-1]  # Remove trailing comma\n",
    "    create_table_query += \")\"\n",
    "    # print(create_table_query)\n",
    "    print(table_name)\n",
    "    # break\n",
    "    snowflake_cursor.execute(f\"DROP TABLE IF EXISTS {table_name}\")\n",
    "    snowflake_cursor.execute(create_table_query)\n",
    "    print(f\"Table '{table_name}' created in Snowflake.\")\n",
    "   \n",
    "    # Insert data into Snowflake table\n",
    "    snowflake_cursor.executemany(f\"INSERT INTO {table_name} VALUES ({','.join(['%s']*len(df.columns))})\", df.values.tolist())\n",
    "    print(f\"Data inserted into table '{table_name}' in Snowflake.\")\n",
    "   \n",
    "# Commit changes\n",
    "snowflake_connection.commit()\n",
    "# Close cursor and connection\n",
    "snowflake_connection.close()\n"
   ]
  },
  {
   "cell_type": "code",
   "execution_count": null,
   "id": "757af18a-f72c-4771-b934-aac12bd80c54",
   "metadata": {},
   "outputs": [],
   "source": []
  }
 ],
 "metadata": {
  "kernelspec": {
   "display_name": "Python 3 (ipykernel)",
   "language": "python",
   "name": "python3"
  },
  "language_info": {
   "codemirror_mode": {
    "name": "ipython",
    "version": 3
   },
   "file_extension": ".py",
   "mimetype": "text/x-python",
   "name": "python",
   "nbconvert_exporter": "python",
   "pygments_lexer": "ipython3",
   "version": "3.10.6"
  }
 },
 "nbformat": 4,
 "nbformat_minor": 5
}
